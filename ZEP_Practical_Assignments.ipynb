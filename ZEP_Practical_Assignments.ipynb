{
  "nbformat": 4,
  "nbformat_minor": 0,
  "metadata": {
    "colab": {
      "name": "ZEP Practical Assignments.ipynb",
      "provenance": [],
      "collapsed_sections": [],
      "authorship_tag": "ABX9TyN0TP+EqekKgZDeAe1DwfhH",
      "include_colab_link": true
    },
    "kernelspec": {
      "name": "python3",
      "display_name": "Python 3"
    },
    "language_info": {
      "name": "python"
    }
  },
  "cells": [
    {
      "cell_type": "markdown",
      "metadata": {
        "id": "view-in-github",
        "colab_type": "text"
      },
      "source": [
        "<a href=\"https://colab.research.google.com/github/sanu4satyam/ZEP_Analytics-Assignments/blob/main/ZEP_Practical_Assignments.ipynb\" target=\"_parent\"><img src=\"https://colab.research.google.com/assets/colab-badge.svg\" alt=\"Open In Colab\"/></a>"
      ]
    },
    {
      "cell_type": "markdown",
      "source": [
        "# **Practical Assignment 1**"
      ],
      "metadata": {
        "id": "MbM5qmjAROR5"
      }
    },
    {
      "cell_type": "markdown",
      "source": [
        "1.) Write a Python program to solve quadratic equations?"
      ],
      "metadata": {
        "id": "3xWIYlPrRcTB"
      }
    },
    {
      "cell_type": "code",
      "source": [
        "#Import cmath module\n",
        "import cmath"
      ],
      "metadata": {
        "id": "KK5VOF4NRt5o"
      },
      "execution_count": 1,
      "outputs": []
    },
    {
      "cell_type": "code",
      "source": [
        "#Input Values in Numbers\n",
        "a = int(input(\"Enter value of a: \"))\n",
        "b = int(input(\"Enter value of b: \"))\n",
        "c = int(input(\"Enter value of c: \"))\n",
        "\n",
        "# calculating  the discriminant\n",
        "discriminant = (b**2) - (4 * a*c)\n",
        "\n",
        "# finding two roots\n",
        "root1 = (-b-cmath.sqrt(discriminant))/(2 * a)\n",
        "root2 = (-b + cmath.sqrt(discriminant))/(2 * a)\n",
        "  \n",
        "# printing the results\n",
        "print('The roots are')\n",
        "print(root1)\n",
        "print(root2)"
      ],
      "metadata": {
        "colab": {
          "base_uri": "https://localhost:8080/"
        },
        "id": "WUeL16N_T6IA",
        "outputId": "65a2256c-c956-450a-a7c1-aa606feece1c"
      },
      "execution_count": 2,
      "outputs": [
        {
          "output_type": "stream",
          "name": "stdout",
          "text": [
            "Enter value of a: 5\n",
            "Enter value of b: 6\n",
            "Enter value of c: 7\n",
            "The roots are\n",
            "(-0.6-1.0198039027185568j)\n",
            "(-0.6+1.0198039027185568j)\n"
          ]
        }
      ]
    },
    {
      "cell_type": "markdown",
      "source": [
        "2.) Write a python code to swap two variables without temp variable."
      ],
      "metadata": {
        "id": "AkZ3WUL3S55c"
      }
    },
    {
      "cell_type": "code",
      "source": [
        "#Getting input\n",
        "x = input(\"Enter the Value x: \")\n",
        "y = input(\"Enter the Value of y: \")\n",
        "\n",
        "#swapping\n",
        "x,y = y,x\n",
        "print('The swapped value of x,y are: ',x,y)\n"
      ],
      "metadata": {
        "colab": {
          "base_uri": "https://localhost:8080/"
        },
        "id": "l9CAFJS8S_rZ",
        "outputId": "13b6392a-130b-4c5c-eb6f-587b8549ed52"
      },
      "execution_count": 3,
      "outputs": [
        {
          "output_type": "stream",
          "name": "stdout",
          "text": [
            "Enter the Value x: 6\n",
            "Enter the Value of y: 9\n",
            "The swapped value of x,y are:  9 6\n"
          ]
        }
      ]
    },
    {
      "cell_type": "markdown",
      "source": [
        "3.) Write a python code for Prime Number."
      ],
      "metadata": {
        "id": "9ml9QbPuTAkb"
      }
    },
    {
      "cell_type": "code",
      "source": [
        "#Getting input\n",
        "n = int(input(\"Enter the number: \"))\n",
        "\n",
        "#Code to Check Prime or Not\n",
        "\n",
        "for i in range (2,n):\n",
        "  if n%2 == 0:\n",
        "    print(\"Not Prime\")\n",
        "    break\n",
        "else:\n",
        "  print(\"It's a Prime\")\n"
      ],
      "metadata": {
        "colab": {
          "base_uri": "https://localhost:8080/"
        },
        "id": "wXeVEEn7TE4Y",
        "outputId": "5594c668-92eb-4a44-c09d-f2e10ae23b39"
      },
      "execution_count": 4,
      "outputs": [
        {
          "output_type": "stream",
          "name": "stdout",
          "text": [
            "Enter the number: 4\n",
            "Not Prime\n"
          ]
        }
      ]
    },
    {
      "cell_type": "markdown",
      "source": [
        "4.) Write a program to convert decimal to binary, Octal and Hexadecimal."
      ],
      "metadata": {
        "id": "3DpvZXfXTFeW"
      }
    },
    {
      "cell_type": "code",
      "source": [
        "#Getting input\n",
        "decimal = int(input('Enter any Decimal Number: '))\n",
        "\n",
        "print(\"Binary is: \",bin(decimal))\n",
        "print(\"Octal is: \",oct(decimal))\n",
        "print(\"Hexadecimal is: \",hex(decimal),)"
      ],
      "metadata": {
        "colab": {
          "base_uri": "https://localhost:8080/"
        },
        "id": "EZmu4Wi-TMKt",
        "outputId": "a6fee13d-da78-4995-c06c-350a8e6f1bfe"
      },
      "execution_count": 5,
      "outputs": [
        {
          "output_type": "stream",
          "name": "stdout",
          "text": [
            "Enter any Decimal Number: 6\n",
            "Binary is:  0b110\n",
            "Octal is:  0o6\n",
            "Hexadecimal is:  0x6\n"
          ]
        }
      ]
    },
    {
      "cell_type": "markdown",
      "source": [
        "5.) Write a python code to find ASCII value of character."
      ],
      "metadata": {
        "id": "Ly4FPHRDTMoZ"
      }
    },
    {
      "cell_type": "code",
      "source": [
        "#Getting input\n",
        "char = input('Enter any Character: ')\n",
        "print(\"The ASCII value is: \", ord(char))"
      ],
      "metadata": {
        "colab": {
          "base_uri": "https://localhost:8080/"
        },
        "id": "bVjgA63rTQcQ",
        "outputId": "c26cd80d-2316-49d2-a738-9b00605f89b9"
      },
      "execution_count": 7,
      "outputs": [
        {
          "output_type": "stream",
          "name": "stdout",
          "text": [
            "Enter any Character: a\n",
            "The ASCII value is:  97\n"
          ]
        }
      ]
    },
    {
      "cell_type": "markdown",
      "source": [
        "# **Practical Assignment 2**"
      ],
      "metadata": {
        "id": "Gi6j4OhwJQqL"
      }
    },
    {
      "cell_type": "markdown",
      "source": [
        "1.) Write a Python Program to calculate the natural logarithm of any number."
      ],
      "metadata": {
        "id": "fx8wBYXiJks4"
      }
    },
    {
      "cell_type": "code",
      "source": [
        "import numpy as np\n",
        "x = 5\n",
        "np.log(5)"
      ],
      "metadata": {
        "colab": {
          "base_uri": "https://localhost:8080/"
        },
        "id": "5Eg5x41QJaOM",
        "outputId": "0ead3258-9e3e-4bf6-9680-2dc11d6b30f3"
      },
      "execution_count": 8,
      "outputs": [
        {
          "output_type": "execute_result",
          "data": {
            "text/plain": [
              "1.6094379124341003"
            ]
          },
          "metadata": {},
          "execution_count": 8
        }
      ]
    },
    {
      "cell_type": "markdown",
      "source": [
        "2.) Write a Python Program to Display Fibonacci Sequence Using Recursion."
      ],
      "metadata": {
        "id": "O0GN-D47JpCj"
      }
    },
    {
      "cell_type": "code",
      "source": [
        "def fibo(n, x, y):\n",
        "    if n-1 == 0:\n",
        "        return x\n",
        "    else:\n",
        "        z = x + y\n",
        "        x = y\n",
        "        return fibo(n-1, x, z)\n",
        " \n",
        " \n",
        "if __name__ == \"__main__\":\n",
        "    print(fibo(5, 0, 1))"
      ],
      "metadata": {
        "colab": {
          "base_uri": "https://localhost:8080/"
        },
        "id": "TATP2xY3JxH3",
        "outputId": "68d2f584-3e58-4f09-f19e-810bfd59a130"
      },
      "execution_count": 19,
      "outputs": [
        {
          "output_type": "stream",
          "name": "stdout",
          "text": [
            "3\n"
          ]
        }
      ]
    },
    {
      "cell_type": "markdown",
      "source": [
        "3.) Write a Python Program for array rotation."
      ],
      "metadata": {
        "id": "As8xfxRUJxbX"
      }
    },
    {
      "cell_type": "code",
      "source": [
        "a = np.array([1, 2, 3, 4, 5, 6])\n",
        "np.roll(a,3)"
      ],
      "metadata": {
        "colab": {
          "base_uri": "https://localhost:8080/"
        },
        "id": "zO_9g8eDJyCc",
        "outputId": "1bef2119-2fd9-43ee-8826-e1a642713229"
      },
      "execution_count": 36,
      "outputs": [
        {
          "output_type": "execute_result",
          "data": {
            "text/plain": [
              "array([4, 5, 6, 1, 2, 3])"
            ]
          },
          "metadata": {},
          "execution_count": 36
        }
      ]
    },
    {
      "cell_type": "markdown",
      "source": [
        "4.) Write a Python Program to check if given array is Monotonic."
      ],
      "metadata": {
        "id": "KYmRMYL8J5be"
      }
    },
    {
      "cell_type": "code",
      "source": [
        "def ismonotone(a):\n",
        "    n=len(a)\n",
        "    if n==1:\n",
        "        return True\n",
        "    else:\n",
        "        #check for monotone behaviour\n",
        "        if all(a[i]>=a[i+1] for i in range(0,n-1) or a[i]<=a[i+1] for i in range(0,n-1)):\n",
        "            return True\n",
        "        else:\n",
        "            return False\n",
        "\n",
        "A = [6, 5, 4, 2]\n",
        "print(ismonotone(A))"
      ],
      "metadata": {
        "colab": {
          "base_uri": "https://localhost:8080/"
        },
        "id": "xkM3j3MEJ5xJ",
        "outputId": "443b362c-0860-47c5-9ec4-870271d00420"
      },
      "execution_count": 38,
      "outputs": [
        {
          "output_type": "stream",
          "name": "stdout",
          "text": [
            "True\n"
          ]
        }
      ]
    },
    {
      "cell_type": "markdown",
      "source": [
        "5.) Write a Python Program to Remove Punctuation From a String."
      ],
      "metadata": {
        "id": "GeerA3wYKA9Q"
      }
    },
    {
      "cell_type": "code",
      "source": [
        "string = 'Hello! World! '\n",
        "new_string = string.replace('!', '')\n",
        "print(new_string)"
      ],
      "metadata": {
        "colab": {
          "base_uri": "https://localhost:8080/"
        },
        "id": "IUijb-DzKEc8",
        "outputId": "514c0a5a-f5de-4973-ff29-eb1d5f5e2737"
      },
      "execution_count": 41,
      "outputs": [
        {
          "output_type": "stream",
          "name": "stdout",
          "text": [
            "Hello World \n"
          ]
        }
      ]
    },
    {
      "cell_type": "markdown",
      "source": [
        "# **Practical Assignment 3**"
      ],
      "metadata": {
        "id": "39LtJXadKFDR"
      }
    },
    {
      "cell_type": "markdown",
      "source": [
        "1.) Write a Python Program to Sort Words in Alphabetic Order."
      ],
      "metadata": {
        "id": "NztVPNf0KOEt"
      }
    },
    {
      "cell_type": "code",
      "source": [
        "a = ('apple', 'mango', 'banana', 'cherry')\n",
        "sorted(a)"
      ],
      "metadata": {
        "colab": {
          "base_uri": "https://localhost:8080/"
        },
        "id": "Jq1gX_YFKNH_",
        "outputId": "be739028-3efa-46b1-80e0-8fefd4c1b4ae"
      },
      "execution_count": 44,
      "outputs": [
        {
          "output_type": "execute_result",
          "data": {
            "text/plain": [
              "['apple', 'banana', 'cherry', 'mango']"
            ]
          },
          "metadata": {},
          "execution_count": 44
        }
      ]
    },
    {
      "cell_type": "markdown",
      "source": [
        "2.) Write a Python Program to Multiply Two Matrices."
      ],
      "metadata": {
        "id": "h_hAbbB9KNsk"
      }
    },
    {
      "cell_type": "code",
      "source": [
        "m1 = [[1,2,3],[4,5,6]]\n",
        "m2 = [[7,8,9],[1,5,8]]\n",
        "np.multiply(m1,m2)"
      ],
      "metadata": {
        "colab": {
          "base_uri": "https://localhost:8080/"
        },
        "id": "cC1_mm-0KWke",
        "outputId": "d55e196b-3622-4d21-a926-178cc891251a"
      },
      "execution_count": 47,
      "outputs": [
        {
          "output_type": "execute_result",
          "data": {
            "text/plain": [
              "array([[ 7, 16, 27],\n",
              "       [ 4, 25, 48]])"
            ]
          },
          "metadata": {},
          "execution_count": 47
        }
      ]
    },
    {
      "cell_type": "markdown",
      "source": [
        "3.) Write a Python program to print all disarium numbers between 1 to 100."
      ],
      "metadata": {
        "id": "W03-ETvyKXXY"
      }
    },
    {
      "cell_type": "code",
      "source": [
        ""
      ],
      "metadata": {
        "id": "UMaWrpGIKbwx"
      },
      "execution_count": 52,
      "outputs": []
    },
    {
      "cell_type": "markdown",
      "source": [
        "4.) Write a Python Program to check if a string contains any special \n",
        "character."
      ],
      "metadata": {
        "id": "vTvL8dtqKcDx"
      }
    },
    {
      "cell_type": "code",
      "source": [
        "import string\n",
        "a1 = string.punctuation\n",
        "a1\n",
        "string1 = \"Hello# Wo$r!d\"\n",
        "  \n",
        "for i in string1:\n",
        "    if i in string.punctuation:\n",
        "        print(\"Punctuation\")\n",
        "    else:\n",
        "      print(\"No Punctuation\")"
      ],
      "metadata": {
        "colab": {
          "base_uri": "https://localhost:8080/"
        },
        "id": "pvJ0sABYKguj",
        "outputId": "7e187d48-ca65-4dcc-8804-c0b50a065579"
      },
      "execution_count": 59,
      "outputs": [
        {
          "output_type": "stream",
          "name": "stdout",
          "text": [
            "No Punctuation\n",
            "No Punctuation\n",
            "No Punctuation\n",
            "No Punctuation\n",
            "No Punctuation\n",
            "Punctuation\n",
            "No Punctuation\n",
            "No Punctuation\n",
            "No Punctuation\n",
            "Punctuation\n",
            "No Punctuation\n",
            "Punctuation\n",
            "No Punctuation\n"
          ]
        }
      ]
    },
    {
      "cell_type": "markdown",
      "source": [
        "5.) Write a Python program to sort Python Dictionaries by Key or Value."
      ],
      "metadata": {
        "id": "z6_FffMuKhXB"
      }
    },
    {
      "cell_type": "code",
      "source": [
        "## By Values\n",
        "orders = {\n",
        "\t'cappuccino': 54,\n",
        "\t'latte': 56,\n",
        "\t'espresso': 72,\n",
        "\t'americano': 48,\n",
        "\t'cortado': 41\n",
        "}\n",
        "\n",
        "[print(key, value) for (key, value) in sorted(orders.items(), key=lambda x: x[1])]"
      ],
      "metadata": {
        "colab": {
          "base_uri": "https://localhost:8080/"
        },
        "id": "IHQaURUCKljN",
        "outputId": "36728397-6bf8-497b-9bd5-26bc1f5cecb4"
      },
      "execution_count": 62,
      "outputs": [
        {
          "output_type": "stream",
          "name": "stdout",
          "text": [
            "cortado 41\n",
            "americano 48\n",
            "cappuccino 54\n",
            "latte 56\n",
            "espresso 72\n"
          ]
        },
        {
          "output_type": "execute_result",
          "data": {
            "text/plain": [
              "[None, None, None, None, None]"
            ]
          },
          "metadata": {},
          "execution_count": 62
        }
      ]
    }
  ]
}